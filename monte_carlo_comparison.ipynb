{
  "nbformat": 4,
  "nbformat_minor": 0,
  "metadata": {
    "colab": {
      "provenance": []
    },
    "kernelspec": {
      "name": "python3",
      "display_name": "Python 3"
    },
    "language_info": {
      "name": "python"
    }
  },
  "cells": [
    {
      "cell_type": "code",
      "source": [
        "import numpy as np\n",
        "n = 1_000_000"
      ],
      "metadata": {
        "id": "9OGPyl6jcsIY"
      },
      "execution_count": 1,
      "outputs": []
    },
    {
      "cell_type": "markdown",
      "source": [
        "## method 1: average value method"
      ],
      "metadata": {
        "id": "WsqxNgixcEJ-"
      }
    },
    {
      "cell_type": "code",
      "execution_count": 2,
      "metadata": {
        "colab": {
          "base_uri": "https://localhost:8080/"
        },
        "id": "fwm_f5d7cBx8",
        "outputId": "53fff560-a903-4204-9db9-aff18a9a0109"
      },
      "outputs": [
        {
          "output_type": "stream",
          "name": "stdout",
          "text": [
            "The estimate result of average value method:  3.1409133088633587\n"
          ]
        }
      ],
      "source": [
        "def average_value_method():\n",
        "  tmp = np.random.rand(n)\n",
        "  tmp = np.sqrt(1-tmp**2)\n",
        "  tmp = 4 * tmp.mean()\n",
        "  return tmp\n",
        "\n",
        "pi = average_value_method()\n",
        "print('The estimate result of average value method: ',pi)"
      ]
    },
    {
      "cell_type": "markdown",
      "source": [
        "## method2: area method"
      ],
      "metadata": {
        "id": "yq0Bf0oXcHde"
      }
    },
    {
      "cell_type": "code",
      "source": [
        "def area_method():\n",
        "  tmp = np.random.rand(n,2)\n",
        "  tmp = np.square(tmp).sum(axis=1)\n",
        "  tmp = 4 * (tmp<1).mean()\n",
        "  return tmp\n",
        "\n",
        "pi = area_method()\n",
        "print('The estimate result of area method: ',pi)"
      ],
      "metadata": {
        "colab": {
          "base_uri": "https://localhost:8080/"
        },
        "id": "5yg4AWvWcJn0",
        "outputId": "ef7a329f-dbb4-4303-febc-e8090e2c61fd"
      },
      "execution_count": 3,
      "outputs": [
        {
          "output_type": "stream",
          "name": "stdout",
          "text": [
            "The estimate result of area method:  3.14154\n"
          ]
        }
      ]
    },
    {
      "cell_type": "markdown",
      "source": [
        "## compare the performance between two method."
      ],
      "metadata": {
        "id": "nT-6ngsncU0-"
      }
    },
    {
      "cell_type": "code",
      "source": [
        "import pandas as pd\n",
        "import seaborn as sns\n",
        "import matplotlib.pyplot as plt\n",
        "sample = 500\n",
        "result = {\n",
        "  'average': [average_value_method() for _ in range(sample)],\n",
        "  'area': [area_method() for _ in range(sample)]\n",
        "}\n",
        "\n",
        "sns.histplot(result, bins=20, kde=True)\n",
        "plt.show()"
      ],
      "metadata": {
        "colab": {
          "base_uri": "https://localhost:8080/",
          "height": 265
        },
        "id": "-U8HhNaHcXnG",
        "outputId": "039f3252-42a1-48d6-b867-6632c3a5196d"
      },
      "execution_count": 4,
      "outputs": [
        {
          "output_type": "display_data",
          "data": {
            "text/plain": [
              "<Figure size 432x288 with 1 Axes>"
            ],
            "image/png": "[encoded data removed]"
          },
          "metadata": {
            "needs_background": "light"
          }
        }
      ]
    },
    {
      "cell_type": "markdown",
      "source": [
        "## Result: \n",
        "`average value method` has lower dispersion"
      ],
      "metadata": {
        "id": "2l-5iGh9i5Bu"
      }
    }
  ]
}